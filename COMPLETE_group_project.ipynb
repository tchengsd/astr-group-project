{
 "cells": [
  {
   "cell_type": "code",
   "execution_count": null,
   "id": "371a283a-83b5-4e41-b037-60a2810c8dae",
   "metadata": {},
   "outputs": [],
   "source": [
    "import numpy as np\n",
    "import matplotlib.pyplot as plt\n",
    "import tensorflow as tf"
   ]
  },
  {
   "cell_type": "code",
   "execution_count": null,
   "id": "1178077d-ab0e-459b-b1f5-866e30466733",
   "metadata": {},
   "outputs": [],
   "source": [
    "#change the file name to correspond to your text file location\n",
    "data = np.genfromtxt('./Group Project/ASTR19_F24_group_project_data.txt', dtype=[('day', 'i8'), ('time', 'U6'), ('height', 'f8')])\n",
    "\n",
    "#the\n",
    "day = []\n",
    "time = []\n",
    "y = []\n",
    "\n",
    "for i in range(82):\n",
    "    #assign first, second and third columns to day, time, and height\n",
    "    day.append(data[i][0])\n",
    "    time.append(data[i][1])\n",
    "    y.append(data[i][2])\n",
    "\n",
    "print(day)\n",
    "print('')\n",
    "print(time)\n",
    "print('')\n",
    "print(y)"
   ]
  },
  {
   "cell_type": "code",
   "execution_count": null,
   "id": "1da50ad9-18fb-4a84-b506-6396cb2f3a64",
   "metadata": {},
   "outputs": [],
   "source": [
    "percents = []\n",
    "for times in time:\n",
    "    hourmin = times.split(':')\n",
    "    percent = (float(hourmin[0]) + float(hourmin[1])/60) /24\n",
    "    percents.append(percent)\n",
    "x = [percent + daynum for percent, daynum in zip(percents, day)]"
   ]
  },
  {
   "cell_type": "code",
   "execution_count": null,
   "id": "56e84635-8d45-44e4-863b-844e63ff3221",
   "metadata": {},
   "outputs": [],
   "source": [
    "f = plt.figure(figsize=(7,7))\n",
    "plt.errorbar(x, y, yerr=np.full(len(y), 0.25), fmt='o')\n",
    "plt.xlabel('Day')\n",
    "plt.ylabel('Height of tide (ft)')\n",
    "plt.show()"
   ]
  },
  {
   "cell_type": "code",
   "execution_count": null,
   "id": "8b96c48c-2a4b-468b-a9b2-e4bf7e7a4eb7",
   "metadata": {},
   "outputs": [],
   "source": [
    "#defining the ocillating model\n",
    "def o_model(x, A1, f1, p1, A2, f2, p2, C):\n",
    "    return (A1 * np.sin(f1 * x + p1)) + (A2 * np.sin(f2 * x + p2)) + C"
   ]
  },
  {
   "cell_type": "code",
   "execution_count": null,
   "id": "c0543e91-1d14-40d0-b99a-a2300f857a02",
   "metadata": {},
   "outputs": [],
   "source": [
    "x = np.array(x, dtype=np.float32)\n",
    "y = np.array(y, dtype=np.float32)\n",
    "\n",
    "# Amplitudes\n",
    "A1_init = ((max(y) - min(y)) / 2)\n",
    "A1_fit = tf.Variable(A1_init, dtype=tf.float32)\n",
    "\n",
    "A2_init = A1_init / 2\n",
    "A2_fit = tf.Variable(A2_init, dtype=tf.float32)\n",
    "\n",
    "# Periods\n",
    "\n",
    "f1_init = 2*np.pi\n",
    "f1_fit = tf.Variable(f1_init, dtype=tf.float32)\n",
    "\n",
    "f2_init = np.pi/15\n",
    "f2_fit = tf.Variable(f2_init, dtype=tf.float32)\n",
    "\n",
    "# Phases\n",
    "\n",
    "p1_init = 0\n",
    "p1_fit = tf.Variable(p1_init, dtype=tf.float32)\n",
    "\n",
    "p2_init = 2\n",
    "p2_fit = tf.Variable(p2_init, dtype=tf.float32)\n",
    "\n",
    "# Offset\n",
    "\n",
    "C_init = np.mean(y)\n",
    "C_fit = tf.Variable(C_init, dtype=tf.float32)"
   ]
  },
  {
   "cell_type": "code",
   "execution_count": null,
   "id": "85df28f4-c7a0-4809-b82a-88ad2e3fdfba",
   "metadata": {},
   "outputs": [],
   "source": [
    "@tf.function\n",
    "def f_tide(x):\n",
    "    \"\"\"A more complex tidal model function.\"\"\"\n",
    "    return (A1_fit * tf.math.sin(f1_fit * x + p1_fit)) + (A2_fit * tf.math.sin(f2_fit * x + p2_fit)) + C_fit"
   ]
  },
  {
   "cell_type": "code",
   "execution_count": null,
   "id": "84cb58b9-6209-4721-b8cf-40d203b69825",
   "metadata": {},
   "outputs": [],
   "source": [
    "@tf.function\n",
    "def loss_function(y_true, y_pred):\n",
    "    return tf.keras.losses.MeanSquaredError()(y_true, y_pred)"
   ]
  },
  {
   "cell_type": "code",
   "execution_count": null,
   "id": "edd1fe7c-874e-4d6d-aae7-c7ba567c2702",
   "metadata": {},
   "outputs": [],
   "source": [
    "# Define the optimizer (Adam optimizer)\n",
    "optimizer = tf.keras.optimizers.Adam(learning_rate=0.001)"
   ]
  },
  {
   "cell_type": "code",
   "execution_count": null,
   "id": "0856604b-ede5-4fe9-bb88-3c0e3e243c93",
   "metadata": {},
   "outputs": [],
   "source": [
    "# Training loop\n",
    "epochs = 5000\n",
    "display_step = 1000\n",
    "\n",
    "for epoch in range(epochs):\n",
    "    if ((epoch % display_step) == 0):\n",
    "        pred = f_tide(x)\n",
    "        loss = loss_function(pred, y)\n",
    "        print(f\"Epoch {epoch} | Loss = {loss.numpy()}, A1: {A1_fit.numpy()}, f1: {f1_fit.numpy()}, p1: {p1_fit.numpy()}, A2: {A2_fit.numpy()}, f2: {f2_fit.numpy()}, p2: {p2_fit.numpy()}, C: {C_fit.numpy()}\")\n",
    "\n",
    "    with tf.GradientTape() as tape:\n",
    "        pred = f_tide(x)\n",
    "        loss = loss_function(pred, y)\n",
    "\n",
    "    gradients = tape.gradient(loss, [A1_fit, f1_fit, p1_fit, A2_fit, f2_fit, p2_fit, C_fit])\n",
    "    optimizer.apply_gradients(zip(gradients, [A1_fit, f1_fit, p1_fit, A2_fit, f2_fit, p2_fit, C_fit]))\n",
    "\n",
    "\n",
    "print(f\"Epoch {epoch} | Loss = {loss.numpy()}, A1: {A1_fit.numpy()}, f1: {f1_fit.numpy()}, p1: {p1_fit.numpy()}, A2: {A2_fit.numpy()}, f2: {f2_fit.numpy()}, p2: {p2_fit.numpy()}, C: {C_fit.numpy()}\")\n",
    "print('Done!')"
   ]
  },
  {
   "cell_type": "code",
   "execution_count": null,
   "id": "79696232-faf3-4488-8164-587655405f3d",
   "metadata": {},
   "outputs": [],
   "source": [
    "x_model = np.sort(x)\n",
    "y_model = o_model(x_model, A1_fit, f1_fit, p1_fit, A2_fit, f2_fit, p2_fit, C_fit)"
   ]
  },
  {
   "cell_type": "code",
   "execution_count": null,
   "id": "a811f6be-9932-47cc-b380-6e3638c9d71d",
   "metadata": {},
   "outputs": [],
   "source": [
    "#plotting the \n",
    "f,ax = plt.subplots(1,1,figsize=(7,7))\n",
    "ax.errorbar(x, y, yerr=np.full(len(x), 0.25), fmt='o', label='Data')\n",
    "ax.plot(x_model, y_model, color='orange',label='Best-fit Model')\n",
    "ax.set_xlabel('x')\n",
    "ax.set_ylabel('y')\n",
    "plt.legend(frameon=False,handletextpad=0)"
   ]
  },
  {
   "cell_type": "code",
   "execution_count": null,
   "id": "b35b0a3f-6529-4688-ba57-b9288ef886c3",
   "metadata": {},
   "outputs": [],
   "source": [
    "x = np.asarray(np.random.uniform(low=min(x), high=max(x), size=100), dtype=np.float32)\n",
    "y = np.asarray(o_model(x, A1_fit, f1_fit, p1_fit, A2_fit, f2_fit, p2_fit, C_fit) + 0.25*np.random.randn(len(x)), dtype=np.float32)\n",
    "y_err = np.full(100, 0.25, dtype=np.float32)\n",
    "\n",
    "idx_model = np.argsort(x)\n",
    "y_data = y[idx_model]\n",
    "y_model = o_model(x[idx_model], A1_fit, f1_fit, p1_fit, A2_fit, f2_fit, p2_fit, C_fit)\n",
    "\n",
    "residuals = y_data - y_model\n",
    "residuals = residuals.numpy()\n",
    "\n",
    "print(residuals)\n",
    "\n",
    "f, ax = plt.subplots(1, 1, figsize=(7, 7))\n",
    "\n",
    "for tick in ax.xaxis.get_ticklabels():\n",
    "    tick.set_fontsize(14)\n",
    "for tick in ax.yaxis.get_ticklabels():\n",
    "    tick.set_fontsize(14)\n",
    "\n",
    "\n",
    "ax.errorbar(x, residuals, y_err, fmt='o', label='Residuals')\n",
    "ax.set_ylim([-2, 2])\n",
    "ax.set_xlabel('x', fontsize=14)\n",
    "ax.set_ylabel('y', fontsize=14)\n",
    "plt.legend(frameon=False, fontsize=14, handletextpad=0)\n",
    "plt.show()"
   ]
  },
  {
   "cell_type": "code",
   "execution_count": null,
   "id": "62ab1b87-2c32-4c09-8f35-3a182a401df4",
   "metadata": {},
   "outputs": [],
   "source": [
    "residual_mean = np.mean(residuals)\n",
    "residual_std = np.std(residuals)"
   ]
  },
  {
   "cell_type": "code",
   "execution_count": null,
   "id": "85a12eb8-0699-4f23-b3a0-72ba1973a409",
   "metadata": {},
   "outputs": [],
   "source": [
    "def gaussian(x, mu, s):\n",
    "    return 1./(2.*np.pi*s**2)**0.5 * np.exp(-0.5*((x-mu)/s)**2)"
   ]
  },
  {
   "cell_type": "code",
   "execution_count": null,
   "id": "fe556355-d7df-428c-95db-a3026f340020",
   "metadata": {},
   "outputs": [],
   "source": [
    "f, ax = plt.subplots(1, 1, figsize=(7, 7))\n",
    "for tick in ax.xaxis.get_ticklabels():\n",
    "    tick.set_fontsize(14)\n",
    "for tick in ax.yaxis.get_ticklabels():\n",
    "    tick.set_fontsize(14)\n",
    "\n",
    "ax.hist(residuals, bins=10, range=(-0.75,0.75), alpha=0.5, edgecolor='white', density=True)\n",
    "\n",
    "x_g = np.linspace(-5*residual_std, 5*residual_std, 1000)\n",
    "ax.plot(x_g, gaussian(x_g, residual_mean, residual_std), color='red')\n",
    "ax.set_xlim([-2, 2])\n",
    "ax.set_xlabel('x', fontsize=14)\n",
    "ax.set_ylabel('y', fontsize=14)\n",
    "plt.show()"
   ]
  },
  {
   "cell_type": "code",
   "execution_count": null,
   "id": "887a2dac-2a0b-4231-9a85-979a463a60c8",
   "metadata": {},
   "outputs": [],
   "source": [
    "residuals = np.append(residuals, 2.)\n",
    "print(residuals)"
   ]
  },
  {
   "cell_type": "code",
   "execution_count": null,
   "id": "c2fc2ea7-bc8c-4dd7-9b36-080d2a947e68",
   "metadata": {},
   "outputs": [],
   "source": [
    "f, ax = plt.subplots(1, 1, figsize=(7, 7))\n",
    "for tick in ax.xaxis.get_ticklabels():\n",
    "    tick.set_fontsize(14)\n",
    "for tick in ax.yaxis.get_ticklabels():\n",
    "    tick.set_fontsize(14)\n",
    "\n",
    "ax.hist(residuals, bins=30, range=(-2.25, 2.25), alpha=0.5, edgecolor='white', density=True)\n",
    "\n",
    "x_g = np.linspace(-5*residual_std, 5*residual_std, 1000)\n",
    "ax.plot(x_g, gaussian(x_g, residual_mean, residual_std), color='red')\n",
    "ax.set_xlim([-2.2, 2.2])\n",
    "ax.set_xlabel('x', fontsize=14)\n",
    "ax.set_ylabel('y', fontsize=14)\n",
    "plt.show()"
   ]
  },
  {
   "cell_type": "code",
   "execution_count": null,
   "id": "6a8c527b-7118-4790-bcd2-758b66f1d55b",
   "metadata": {},
   "outputs": [],
   "source": [
    "residual_std = np.std(residuals)\n",
    "print(f\"The standard deviation of the residuals is {residual_std}\")"
   ]
  },
  {
   "cell_type": "code",
   "execution_count": null,
   "id": "ad3acbd7-380c-4bc1-9902-290468a266e1",
   "metadata": {},
   "outputs": [],
   "source": [
    "print(f\"The outlier is about {(2. - np.mean(residuals)) / np.std(residuals)} standard deviations away from the mean.\")"
   ]
  }
 ],
 "metadata": {
  "kernelspec": {
   "display_name": "ASTR 19",
   "language": "python",
   "name": "astr19"
  },
  "language_info": {
   "codemirror_mode": {
    "name": "ipython",
    "version": 3
   },
   "file_extension": ".py",
   "mimetype": "text/x-python",
   "name": "python",
   "nbconvert_exporter": "python",
   "pygments_lexer": "ipython3",
   "version": "3.10.12"
  }
 },
 "nbformat": 4,
 "nbformat_minor": 5
}
