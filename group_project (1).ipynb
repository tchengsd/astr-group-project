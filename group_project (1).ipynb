{
 "cells": [
  {
   "cell_type": "code",
   "execution_count": null,
   "id": "ea6a4a85-6300-4027-85ac-8f1570c17cc1",
   "metadata": {},
   "outputs": [],
   "source": [
    "import numpy as np"
   ]
  },
  {
   "cell_type": "code",
   "execution_count": null,
   "id": "204f45db-8201-467c-84a1-249be1a43bb4",
   "metadata": {},
   "outputs": [],
   "source": [
    "#change the file name to correspond to your text file location\n",
    "data = np.genfromtxt('./Group Project/ASTR19_F24_group_project_data.txt', dtype=[('day', 'i8'), ('time', 'U6'), ('height', 'f8')])\n",
    "\n",
    "#empty lists to be filled with column data\n",
    "day = []\n",
    "time = []\n",
    "height = []\n",
    "\n",
    "for i in range(82):\n",
    "    #assign first, second and third columns to day, time, and height\n",
    "    day.append(data[i][0])\n",
    "    time.append(data[i][1])\n",
    "    height.append(data[i][2])\n",
    "    \n",
    "print(day)\n",
    "print('')\n",
    "print(time)\n",
    "print('')\n",
    "print(height)"
   ]
  },
  {
   "cell_type": "code",
   "execution_count": null,
   "id": "4772579b-c318-43fb-ae55-e0aee196f28c",
   "metadata": {},
   "outputs": [],
   "source": [
    "percents = []\n",
    "for times in time:\n",
    "    hourmin = times.split(':')\n",
    "    percent = (float(hourmin[0]) + float(hourmin[1])/60) /24\n",
    "    percents.append(percent)\n",
    "daytime = [percent + daynum for percent, daynum in zip(percents, day)]"
   ]
  },
  {
   "cell_type": "code",
   "execution_count": null,
   "id": "260cafad-87bd-4037-94e7-7328d8261ddf",
   "metadata": {},
   "outputs": [],
   "source": [
    "import matplotlib.pyplot as plt"
   ]
  },
  {
   "cell_type": "code",
   "execution_count": null,
   "id": "36caf536-01d1-4ecc-a490-41983d67aa10",
   "metadata": {},
   "outputs": [],
   "source": [
    "plt.plot(daytime, height, '-o')\n",
    "plt.xlabel('Day')\n",
    "plt.ylabel('Height of tide (ft)')\n",
    "plt.show()"
   ]
  },
  {
   "cell_type": "code",
   "execution_count": null,
   "id": "105c0225-ea8f-49e4-9712-9ddb98817d7b",
   "metadata": {},
   "outputs": [],
   "source": [
    "from scipy import optimize"
   ]
  },
  {
   "cell_type": "code",
   "execution_count": null,
   "id": "81560d92-3842-470a-a53e-02c853636b8e",
   "metadata": {},
   "outputs": [],
   "source": [
    "def f_line(x, a, b, c, d):\n",
    "    return a * np.sin(b * x) * np.sin(c * x) + d\n",
    "\n",
    "print(np.max(height) - np.min(height))\n",
    "params, params_cov = optimize.curve_fit(f_line, daytime, height, sigma=np.full(len(daytime), 0.25), p0=[abs(np.max(height) - np.min(height)),np.pi/15,2*np.pi,np.mean(height)])\n",
    "\n",
    "a_fit = params[0]\n",
    "b_fit = params[1]\n",
    "c_fit = params[2]\n",
    "d_fit = params[3]\n",
    "\n",
    "print(a_fit, b_fit, c_fit, d_fit)\n",
    "\n",
    "height_fit = f_line(np.array(daytime), a_fit, b_fit, c_fit, d_fit)\n",
    "print(height_fit)"
   ]
  },
  {
   "cell_type": "code",
   "execution_count": null,
   "id": "4901369b-892a-4b6e-a7b0-5b16c2189ad3",
   "metadata": {},
   "outputs": [],
   "source": [
    "plt.plot(daytime, height_fit)\n",
    "plt.plot(daytime, height, '-o')\n",
    "plt.show()"
   ]
  },
  {
   "cell_type": "code",
   "execution_count": null,
   "id": "6f96abd9-c00d-4354-8f87-7b7fd24c1e47",
   "metadata": {},
   "outputs": [],
   "source": [
    "residuals = []\n",
    "i = 0\n",
    "while i < len(height):\n",
    "    #subtracted the best fit from the data to get the residuals\n",
    "    residuals.append(height[i] - height_fit[i])\n",
    "    i += 1\n",
    "plt.hist(residuals, bins = len(residuals), alpha=0.5, edgecolor='black')\n",
    "plt.xlabel('Bins')\n",
    "plt.ylabel('Residuals')\n",
    "plt.show()\n",
    "#plt.savefig(\"residuals.pdf\", bbox_inches=\"tight\", facecolor=\"white\")"
   ]
  },
  {
   "cell_type": "code",
   "execution_count": null,
   "id": "c61521be-b88c-4d01-a26e-1fcbe7b7b128",
   "metadata": {},
   "outputs": [],
   "source": [
    "mean_error = np.mean(residuals)\n",
    "standard_error = np.std(residuals)\n",
    "print(mean_error)\n",
    "print(standard_error)"
   ]
  },
  {
   "cell_type": "code",
   "execution_count": null,
   "id": "2e620f3b-b9f0-4d89-b626-5f9dba3665fc",
   "metadata": {},
   "outputs": [],
   "source": []
  }
 ],
 "metadata": {
  "kernelspec": {
   "display_name": "ASTR 19",
   "language": "python",
   "name": "astr19"
  },
  "language_info": {
   "codemirror_mode": {
    "name": "ipython",
    "version": 3
   },
   "file_extension": ".py",
   "mimetype": "text/x-python",
   "name": "python",
   "nbconvert_exporter": "python",
   "pygments_lexer": "ipython3",
   "version": "3.10.12"
  }
 },
 "nbformat": 4,
 "nbformat_minor": 5
}
